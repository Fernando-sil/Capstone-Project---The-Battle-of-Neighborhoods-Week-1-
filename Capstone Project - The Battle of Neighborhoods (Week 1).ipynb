{
 "cells": [
  {
   "cell_type": "markdown",
   "id": "5a0b6884",
   "metadata": {},
   "source": [
    "# Recommendations on where to open a new Beer Bar for Stanley Park Brewing Co."
   ]
  },
  {
   "cell_type": "markdown",
   "id": "c804d6c7",
   "metadata": {},
   "source": [
    "## 1.Introduction"
   ]
  },
  {
   "cell_type": "markdown",
   "id": "95500fc5",
   "metadata": {},
   "source": [
    "### Background"
   ]
  },
  {
   "cell_type": "markdown",
   "id": "5b903c24",
   "metadata": {},
   "source": [
    "The food and beverage industry can be attractive to people due to its potential profitability and relatively lower investiment compared to other industries. However, due to the current pandemic, challenges often faced by business owners of this industry have been amplified. Many factors are to be considered when open new businesses and any advantage can be imperative for their success.\n",
    "\n",
    "Competion is often a factor that influences business owners' decisions. This report aims to reccomend neighbourhoods in Toronto area where other beer bars are not present. The reduced competion in the selected neighbourhood will contribute to the business' success.\n",
    "\n",
    "The model in this report can be used for other venues of neighbourhoods in the city of Toronto."
   ]
  },
  {
   "cell_type": "markdown",
   "id": "3ac0d34b",
   "metadata": {},
   "source": [
    "## 2. Data acquisition"
   ]
  },
  {
   "cell_type": "markdown",
   "id": "ca6f0767",
   "metadata": {},
   "source": [
    "This report used datasets from 2 sources: Wikipedia and Foursquare. Wikipedia dataset can be found [here]('https://en.wikipedia.org/w/index.php?title=List_of_postal_codes_of_Canada:_M&oldid=1012118802')\n",
    "\n",
    "Wikipedia dataset provided addresses of neighbourhoods in the city of Toronto. Foursquare provided all the venues present in selected locations."
   ]
  },
  {
   "cell_type": "markdown",
   "id": "5704b455",
   "metadata": {},
   "source": [
    "## 3. Solving the problem"
   ]
  },
  {
   "cell_type": "markdown",
   "id": "d674a3b8",
   "metadata": {},
   "source": [
    "It is assumed that businesses of the same type, in this case beer bars, compete with Stanley Park Brewing Co. In order to determine which neighbourhoods have the least amount competitors, the following steps were taken:\n",
    "\n",
    "- Getting all venues from neighbourhoods located in Toronto\n",
    "- Finding the frequency of veunes in each neighbourhood\n",
    "- Filtering data for beer bars\n",
    "- Clustering neighbourhoods using k-means method\n",
    "- Creating compeling visualization of recommended locations\n",
    "\n",
    "This report also provided a list of the top 5 neighbourhoods with the least amount of competion."
   ]
  }
 ],
 "metadata": {
  "kernelspec": {
   "display_name": "Python 3",
   "language": "python",
   "name": "python3"
  },
  "language_info": {
   "codemirror_mode": {
    "name": "ipython",
    "version": 3
   },
   "file_extension": ".py",
   "mimetype": "text/x-python",
   "name": "python",
   "nbconvert_exporter": "python",
   "pygments_lexer": "ipython3",
   "version": "3.8.8"
  }
 },
 "nbformat": 4,
 "nbformat_minor": 5
}
